{
 "cells": [
  {
   "cell_type": "code",
   "execution_count": null,
   "metadata": {},
   "outputs": [],
   "source": [
    "import pandas as pd\n",
    "\n",
    "# Load data from Excel files\n",
    "# Replace 'path_to_merged_data.xlsx' with the actual file path for the merged items and bids data\n",
    "merged_df = pd.read_excel('path_to_merged_data.xlsx')\n",
    "\n",
    "# Replace 'path_to_target_volume.xlsx' with the actual file path for the target volume data\n",
    "target_volume_df = pd.read_excel('path_to_target_volume.xlsx')\n",
    "\n",
    "# Replace 'path_to_factory_demand.xlsx' with the actual file path for the factory demand data\n",
    "factory_demand_df = pd.read_excel('path_to_factory_demand.xlsx')\n",
    "\n",
    "# If you have a separate file for constraints like unacceptable pairs, load it as well\n",
    "# Replace 'path_to_constraints.xlsx' with the actual file path for the constraints data\n",
    "# This file should ideally have two columns: 'item_id' and 'factory_id' for each unacceptable pair\n",
    "constraints_df = pd.read_excel('path_to_constraints.xlsx')\n",
    "constraints = {\n",
    "    'unacceptable_pairs': [tuple(x) for x in constraints_df.to_records(index=False)]\n",
    "}\n"
   ]
  },
  {
   "cell_type": "markdown",
   "metadata": {},
   "source": [
    "## Load in Packages"
   ]
  },
  {
   "cell_type": "code",
   "execution_count": null,
   "metadata": {},
   "outputs": [],
   "source": [
    "import pandas as pd\n",
    "import numpy as np\n"
   ]
  },
  {
   "cell_type": "markdown",
   "metadata": {},
   "source": [
    "## Load in Dummy Data"
   ]
  },
  {
   "cell_type": "code",
   "execution_count": null,
   "metadata": {},
   "outputs": [],
   "source": [
    "# Set the seed for reproducibility\n",
    "np.random.seed(42)\n",
    "\n",
    "# Vendors Data\n",
    "vendors = pd.DataFrame({\n",
    "    'vendor_id': [f'V{i}' for i in range(1, 201)],\n",
    "    'vendor_country': np.random.choice(['Country A', 'Country B', 'Country C'], size=200)\n",
    "})\n",
    "\n",
    "# Items Data\n",
    "items = pd.DataFrame({\n",
    "    'item_id': range(1, 1001),\n",
    "    'PP_Type': np.random.choice(['Type1', 'Type2', 'Type3', 'Type4'], size=1000)\n",
    "})\n",
    "\n",
    "# Merged Data (Items with Vendors)\n",
    "merged_df = items.copy()\n",
    "merged_df['vendor_id'] = np.random.choice(vendors['vendor_id'], size=1000)\n",
    "merged_df['vendor_country'] = merged_df['vendor_id'].map(vendors.set_index('vendor_id')['vendor_country'])\n",
    "merged_df['cost_per_unit'] = np.random.uniform(10, 100, size=1000)\n",
    "\n",
    "# Factory Demand Data\n",
    "factory_demand_df = pd.DataFrame({\n",
    "    'factory_id': [f'F{i}' for i in range(1, 501)],\n",
    "    'factory_country': np.random.choice(['Country A', 'Country B', 'Country C'], size=500),\n",
    "    'VOLUME': np.random.randint(50, 200, size=500)\n",
    "})\n",
    "\n",
    "# Target Volume Data\n",
    "target_volume_df = pd.DataFrame({\n",
    "    'vendor_id': [f'V{i}' for i in range(1, 201)],\n",
    "    'target_allocation_pct': np.random.uniform(0.05, 0.15, size=200),\n",
    "    'acceptable_range_pct': np.random.uniform(5, 10, size=200),\n",
    "    'PP_Type': np.random.choice(['Type1', 'Type2', 'Type3', 'Type4'], size=200)\n",
    "})\n",
    "\n",
    "# Constraints Data\n",
    "constraints = {\n",
    "    'unacceptable_pairs': [(np.random.randint(1, 1001), f'F{np.random.randint(1, 501)}') for _ in range(10)]\n",
    "}\n"
   ]
  }
 ],
 "metadata": {
  "language_info": {
   "name": "python"
  }
 },
 "nbformat": 4,
 "nbformat_minor": 2
}
