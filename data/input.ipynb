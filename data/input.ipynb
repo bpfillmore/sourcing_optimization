{
 "cells": [
  {
   "cell_type": "code",
   "execution_count": null,
   "metadata": {},
   "outputs": [],
   "source": [
    "import pandas as pd\n",
    "\n",
    "# Load data from Excel files\n",
    "# Replace 'path_to_merged_data.xlsx' with the actual file path for the merged items and bids data\n",
    "merged_df = pd.read_excel('path_to_merged_data.xlsx')\n",
    "\n",
    "# Replace 'path_to_target_volume.xlsx' with the actual file path for the target volume data\n",
    "target_volume_df = pd.read_excel('path_to_target_volume.xlsx')\n",
    "\n",
    "# Replace 'path_to_factory_demand.xlsx' with the actual file path for the factory demand data\n",
    "factory_demand_df = pd.read_excel('path_to_factory_demand.xlsx')\n",
    "\n",
    "# If you have a separate file for constraints like unacceptable pairs, load it as well\n",
    "# Replace 'path_to_constraints.xlsx' with the actual file path for the constraints data\n",
    "# This file should ideally have two columns: 'item_id' and 'factory_id' for each unacceptable pair\n",
    "constraints_df = pd.read_excel('path_to_constraints.xlsx')\n",
    "constraints = {\n",
    "    'unacceptable_pairs': [tuple(x) for x in constraints_df.to_records(index=False)]\n",
    "}\n"
   ]
  }
 ],
 "metadata": {
  "language_info": {
   "name": "python"
  }
 },
 "nbformat": 4,
 "nbformat_minor": 2
}
