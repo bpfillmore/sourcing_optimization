{
 "cells": [
  {
   "cell_type": "code",
   "execution_count": null,
   "metadata": {},
   "outputs": [],
   "source": [
    "import pandas as pd\n",
    "\n",
    "# Load the input files using Pandas\n",
    "item_list_df = pd.read_excel('ITEM LIST.xlsx')\n",
    "price_list_df = pd.read_excel('PRICE LIST.xlsx')\n",
    "factory_demand_df = pd.read_excel('FACTORY DEMAND.xlsx')\n",
    "target_volume_df = pd.read_excel('TARGET VOLUME.xlsx')\n",
    "\n",
    "# Print data types to check if any conversion is needed\n",
    "print(\"Item List Data Types:\\n\", item_list_df.dtypes)\n",
    "print(\"Price List Data Types:\\n\", price_list_df.dtypes)\n",
    "print(\"Factory Demand Data Types:\\n\", factory_demand_df.dtypes)\n",
    "print(\"Target Volume Data Types:\\n\", target_volume_df.dtypes)\n",
    "\n",
    "# Convert columns to appropriate data types if needed\n",
    "item_list_df['PCX SPL MTL ID'] = item_list_df['PCX SPL MTL ID'].astype(str).fillna(item_list_df['PCX MTL ID'])\n",
    "price_list_df['PCX SPL MTL ID'] = price_list_df['PCX SPL MTL ID'].astype(str).fillna(price_list_df['PCX MTL ID'])\n",
    "factory_demand_df['PCX SPL MTL ID'] = factory_demand_df['PCX SPL MTL ID'].astype(str).fillna(factory_demand_df['PCX MTL ID'])\n",
    "\n",
    "# Handle any potential conversion issues\n",
    "factory_demand_df['VOLUME'] = pd.to_numeric(factory_demand_df['VOLUME'], errors='coerce').fillna(0).astype(int)\n",
    "price_list_df['BID PRICE'] = pd.to_numeric(price_list_df['BID PRICE'], errors='coerce').fillna(0).astype(float)\n",
    "target_volume_df['TOTAL VOLUME'] = pd.to_numeric(target_volume_df['TOTAL VOLUME'], errors='coerce').fillna(0).astype(int)\n",
    "target_volume_df['TARGET %'] = pd.to_numeric(target_volume_df['TARGET %'], errors='coerce').fillna(0).astype(float)\n",
    "target_volume_df['TARGET % RANGE'] = pd.to_numeric(target_volume_df['TARGET % RANGE'], errors='coerce').fillna(0).astype(float)\n",
    "\n",
    "# Calculate MIN TARGET VOLUME and MAX TARGET VOLUME\n",
    "target_volume_df['MIN TARGET VOLUME'] = (target_volume_df['TARGET %'] - target_volume_df['TARGET % RANGE']) * target_volume_df['TOTAL VOLUME']\n",
    "target_volume_df['MAX TARGET VOLUME'] = (target_volume_df['TARGET %'] + target_volume_df['TARGET % RANGE']) * target_volume_df['TOTAL VOLUME']\n",
    "\n",
    "print(\"Data Preprocessing Complete\")"
   ]
  },
  {
   "cell_type": "code",
   "execution_count": null,
   "metadata": {},
   "outputs": [],
   "source": [
    "# Merge ITEM LIST with PRICE LIST on 'PCX SPL MTL ID'\n",
    "merged_df = pd.merge(item_list_df, price_list_df, on='PCX SPL MTL ID', how='inner')\n",
    "\n",
    "# Assign preference by LOCAL FOR LOCAL and BID PRICE\n",
    "merged_df['LOCAL_FOR_LOCAL'] = merged_df['SUPPLIER_x'] == merged_df['SUPPLIER COUNTRY_y']\n",
    "merged_df = merged_df.sort_values(by=['LOCAL_FOR_LOCAL', 'BID PRICE'], ascending=[False, True])\n",
    "\n",
    "merged_df.head()"
   ]
  },
  {
   "cell_type": "code",
   "execution_count": null,
   "metadata": {},
   "outputs": [],
   "source": [
    "def allocate_volume(merged_df, target_volume_df, factory_demand_df):\n",
    "    allocations = []\n",
    "    \n",
    "    for _, supplier in target_volume_df.iterrows():\n",
    "        supplier_name = supplier['SUPPLIER']\n",
    "        min_volume = supplier['MIN TARGET VOLUME']\n",
    "        max_volume = supplier['MAX TARGET VOLUME']\n",
    "        supplier_df = merged_df[merged_df['SUPPLIER_x'] == supplier_name]\n",
    "        \n",
    "        allocated_volume = 0\n",
    "        for _, row in supplier_df.iterrows():\n",
    "            if allocated_volume >= max_volume:\n",
    "                break\n",
    "\n",
    "            factory_options = factory_demand_df[factory_demand_df['PCX SPL MTL ID'] == row['PCX SPL MTL ID']]\n",
    "            for _, factory in factory_options.iterrows():\n",
    "                if allocated_volume >= max_volume:\n",
    "                    break\n",
    "                if factory['VOLUME'] > 0:\n",
    "                    volume_to_allocate = min(max_volume - allocated_volume, factory['VOLUME'])\n",
    "                    allocations.append({\n",
    "                        'PCX SPL MTL ID': row['PCX SPL MTL ID'],\n",
    "                        'SUPPLIER': row['SUPPLIER_x'],\n",
    "                        'FACTORY CODE': factory['FACTORY CODE'],\n",
    "                        'ALLOCATION (UNITS)': volume_to_allocate,\n",
    "                        'PRICE': row['BID PRICE']\n",
    "                    })\n",
    "                    allocated_volume += volume_to_allocate\n",
    "                    factory_demand_df.loc[factory_demand_df['PCX SPL MTL ID'] == factory['PCX SPL MTL ID'], 'VOLUME'] -= volume_to_allocate\n",
    "    \n",
    "    return pd.DataFrame(allocations)\n",
    "\n",
    "# Perform the allocation\n",
    "allocation_df = allocate_volume(merged_df, target_volume_df, factory_demand_df)\n",
    "\n",
    "allocation_df.head()"
   ]
  },
  {
   "cell_type": "code",
   "execution_count": null,
   "metadata": {},
   "outputs": [],
   "source": [
    "# Output the allocation results in the same format as ALLOCATION RESULT file\n",
    "allocation_result_columns = ['PCX SPL MTL ID', 'SUPPLIER', 'FACTORY CODE', 'ALLOCATION (UNITS)', 'PRICE']\n",
    "allocation_df = allocation_df[allocation_result_columns]\n",
    "\n",
    "# Save the results to an Excel file\n",
    "allocation_df.to_excel('ALLOCATION_RESULT.xlsx', index=False)\n",
    "\n",
    "print(\"Allocation results saved to ALLOCATION_RESULT.xlsx\")"
   ]
  }
 ],
 "metadata": {
  "kernelspec": {
   "display_name": "py311",
   "language": "python",
   "name": "python3"
  },
  "language_info": {
   "name": "python",
   "version": "3.11.9"
  }
 },
 "nbformat": 4,
 "nbformat_minor": 2
}
