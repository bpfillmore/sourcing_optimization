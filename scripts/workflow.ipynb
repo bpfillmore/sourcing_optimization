{
 "cells": [
  {
   "cell_type": "markdown",
   "metadata": {},
   "source": [
    "# Load Required Packages"
   ]
  },
  {
   "cell_type": "code",
   "execution_count": 6,
   "metadata": {},
   "outputs": [],
   "source": [
    "import pandas as pd\n",
    "import numpy as np"
   ]
  },
  {
   "cell_type": "markdown",
   "metadata": {},
   "source": [
    "# Load Dummy Data"
   ]
  },
  {
   "cell_type": "code",
   "execution_count": 8,
   "metadata": {},
   "outputs": [],
   "source": [
    "np.random.seed(42)\n",
    "\n",
    "# Generate vendors data\n",
    "vendors = pd.DataFrame({\n",
    "    'vendor_id': [f'V{i}' for i in range(1, 201)],\n",
    "    'vendor_country': np.random.choice(['Country A', 'Country B', 'Country C'], size=200)\n",
    "})\n",
    "\n",
    "# Generate items data\n",
    "items = pd.DataFrame({\n",
    "    'item_id': range(1, 1001),\n",
    "    'PP_Type': np.random.choice(['Type1', 'Type2', 'Type3', 'Type4'], size=1000)\n",
    "})\n",
    "\n",
    "# Merge items with vendors to create a merged dataframe\n",
    "merged_df = items.copy()\n",
    "merged_df['vendor_id'] = np.random.choice(vendors['vendor_id'], size=1000)\n",
    "merged_df['vendor_country'] = merged_df['vendor_id'].map(vendors.set_index('vendor_id')['vendor_country'])\n",
    "merged_df['cost_per_unit'] = np.random.uniform(10, 100, size=1000)\n",
    "\n",
    "# Generate factory demand data\n",
    "factory_demand_df = pd.DataFrame({\n",
    "    'factory_id': [f'F{i}' for i in range(1, 501)],\n",
    "    'factory_country': np.random.choice(['Country A', 'Country B', 'Country C'], size=500),\n",
    "    'VOLUME': np.random.randint(50, 200, size=500)\n",
    "})\n",
    "\n",
    "# Generate target volume data for vendors\n",
    "target_volume_df = pd.DataFrame({\n",
    "    'vendor_id': [f'V{i}' for i in range(1, 201)],\n",
    "    'target_allocation_pct': np.random.uniform(0.05, 0.15, size=200),\n",
    "    'acceptable_range_pct': np.random.uniform(5, 10, size=200),\n",
    "    'PP_Type': np.random.choice(['Type1', 'Type2', 'Type3', 'Type4'], size=200)\n",
    "})\n",
    "\n",
    "# Define constraints\n",
    "constraints = {\n",
    "    'unacceptable_pairs': [(np.random.randint(1, 1001), f'F{np.random.randint(1, 501)}') for _ in range(10)]\n",
    "}\n"
   ]
  },
  {
   "cell_type": "markdown",
   "metadata": {},
   "source": [
    "# Define Functions"
   ]
  },
  {
   "cell_type": "markdown",
   "metadata": {},
   "source": [
    "## Pre-Processing"
   ]
  },
  {
   "cell_type": "code",
   "execution_count": 14,
   "metadata": {},
   "outputs": [],
   "source": [
    "def preprocess_data(merged_df, factory_demand_df, constraints=None):\n",
    "    # Example: Apply constraints based on business logic linking items to factories\n",
    "    if constraints and 'unacceptable_pairs' in constraints:\n",
    "        # Define logic to determine how items and factories are related\n",
    "        for item_id, factory_id in constraints['unacceptable_pairs']:\n",
    "            # Apply the constraint based on business logic\n",
    "            pass  # Placeholder for actual logic\n",
    "\n",
    "    return merged_df\n"
   ]
  },
  {
   "cell_type": "markdown",
   "metadata": {},
   "source": [
    "## Winning Supplier"
   ]
  },
  {
   "cell_type": "code",
   "execution_count": 34,
   "metadata": {},
   "outputs": [],
   "source": [
    "def select_winning_supplier(merged_df, factory_demand_df):\n",
    "    selected_suppliers = []\n",
    "\n",
    "    for _, factory in factory_demand_df.iterrows():\n",
    "        factory_id = factory['factory_id']\n",
    "        factory_country = factory['factory_country']\n",
    "\n",
    "        # Assume merged_df has a 'PP_Type' column\n",
    "        for _, item in merged_df.iterrows():\n",
    "            if item['vendor_country'] == factory_country:\n",
    "                selected_suppliers.append({\n",
    "                    'item_id': item['item_id'],\n",
    "                    'vendor_id': item['vendor_id'],\n",
    "                    'factory_id': factory_id,\n",
    "                    'cost_per_unit': item['cost_per_unit'],\n",
    "                    'local_for_local': item['vendor_country'] == factory_country,\n",
    "                    'PP_Type': item['PP_Type']  # Make sure PP_Type is included here\n",
    "                })\n",
    "\n",
    "    return pd.DataFrame(selected_suppliers)\n"
   ]
  },
  {
   "cell_type": "markdown",
   "metadata": {},
   "source": [
    "## Winning Factory"
   ]
  },
  {
   "cell_type": "code",
   "execution_count": 46,
   "metadata": {},
   "outputs": [],
   "source": [
    "def allocate_to_factories(selected_suppliers, target_volume_df, factory_demand_df):\n",
    "    allocation_result = []\n",
    "\n",
    "    for _, supplier in selected_suppliers.iterrows():\n",
    "        item_id = supplier['item_id']\n",
    "        vendor_id = supplier['vendor_id']\n",
    "        factory_id = supplier['factory_id']\n",
    "        cost_per_unit = supplier['cost_per_unit']  # Capture cost_per_unit from selected_suppliers\n",
    "\n",
    "        target_volume_data = target_volume_df[target_volume_df['vendor_id'] == vendor_id]\n",
    "        factory_data = factory_demand_df[factory_demand_df['factory_id'] == factory_id]\n",
    "\n",
    "        if not target_volume_data.empty and not factory_data.empty:\n",
    "            target_allocation = target_volume_data['target_allocation_pct'].iloc[0] * factory_data['VOLUME'].iloc[0]\n",
    "\n",
    "            allocation_result.append({\n",
    "                'item_id': item_id,\n",
    "                'factory_id': factory_id,\n",
    "                'vendor_id': vendor_id,\n",
    "                'allocated_units': target_allocation,\n",
    "                'cost_per_unit': cost_per_unit,  # Include cost_per_unit in the results\n",
    "                'PP_Type': supplier['PP_Type'],  # Ensure PP_Type is also carried forward\n",
    "                'local_for_local': selected_suppliers['local_for_local']\n",
    "            })\n",
    "\n",
    "    return pd.DataFrame(allocation_result)\n"
   ]
  },
  {
   "cell_type": "markdown",
   "metadata": {},
   "source": [
    "# Execute the Workflow"
   ]
  },
  {
   "cell_type": "code",
   "execution_count": 47,
   "metadata": {},
   "outputs": [],
   "source": [
    "processed_merged_df = preprocess_data(merged_df, constraints)\n",
    "winning_suppliers = select_winning_supplier(processed_merged_df, factory_demand_df)\n",
    "allocation_results = allocate_to_factories(winning_suppliers, target_volume_df, factory_demand_df)"
   ]
  },
  {
   "cell_type": "markdown",
   "metadata": {},
   "source": [
    "# Explore Results"
   ]
  },
  {
   "cell_type": "code",
   "execution_count": 48,
   "metadata": {},
   "outputs": [
    {
     "name": "stdout",
     "output_type": "stream",
     "text": [
      "Basic Statistics:\n",
      "             item_id  allocated_units  cost_per_unit\n",
      "count  167414.000000    167414.000000  167414.000000\n",
      "mean      500.847850        12.375987      55.389121\n",
      "std       288.585445         5.697068      25.940806\n",
      "min         1.000000         2.509961      10.289644\n",
      "25%       251.000000         7.888285      32.228092\n",
      "50%       501.000000        11.372027      56.627089\n",
      "75%       751.000000        16.209237      77.326586\n",
      "max      1000.000000        29.311301      99.947235\n"
     ]
    }
   ],
   "source": [
    "print(\"Basic Statistics:\")\n",
    "print(allocation_results.describe())"
   ]
  },
  {
   "cell_type": "code",
   "execution_count": 49,
   "metadata": {},
   "outputs": [
    {
     "name": "stdout",
     "output_type": "stream",
     "text": [
      "\n",
      "Allocation Distribution by Factory:\n",
      "factory_id\n",
      "F1      3878.042293\n",
      "F10     4607.551696\n",
      "F100    5118.095057\n",
      "F101    2474.310855\n",
      "F102    1715.219975\n",
      "           ...     \n",
      "F95     3002.355323\n",
      "F96     3430.439949\n",
      "F97     4169.044318\n",
      "F98     2971.080789\n",
      "F99     2085.169381\n",
      "Name: allocated_units, Length: 500, dtype: float64\n"
     ]
    }
   ],
   "source": [
    "print(\"\\nAllocation Distribution by Factory:\")\n",
    "factory_allocation = allocation_results.groupby('factory_id')['allocated_units'].sum()\n",
    "print(factory_allocation)"
   ]
  },
  {
   "cell_type": "code",
   "execution_count": 50,
   "metadata": {},
   "outputs": [
    {
     "name": "stdout",
     "output_type": "stream",
     "text": [
      "\n",
      "Allocation Distribution by Vendor:\n",
      "vendor_id\n",
      "V1      17127.956908\n",
      "V10      9987.048819\n",
      "V100    12859.364975\n",
      "V101     7472.764827\n",
      "V102     6221.379482\n",
      "            ...     \n",
      "V95      6556.996257\n",
      "V96      3700.522984\n",
      "V97     10513.823824\n",
      "V98     21134.968879\n",
      "V99      7280.523978\n",
      "Name: allocated_units, Length: 200, dtype: float64\n"
     ]
    }
   ],
   "source": [
    "print(\"\\nAllocation Distribution by Vendor:\")\n",
    "vendor_allocation = allocation_results.groupby('vendor_id')['allocated_units'].sum()\n",
    "print(vendor_allocation)"
   ]
  },
  {
   "cell_type": "code",
   "execution_count": 51,
   "metadata": {},
   "outputs": [
    {
     "name": "stdout",
     "output_type": "stream",
     "text": [
      "\n",
      "Total Cost per Factory:\n",
      "factory_id\n",
      "F1      212651.729653\n",
      "F10     258162.422284\n",
      "F100    280736.444740\n",
      "F101    135720.267987\n",
      "F102     96104.259390\n",
      "            ...      \n",
      "F95     164633.597151\n",
      "F96     192208.518781\n",
      "F97     228679.355649\n",
      "F98     162918.663847\n",
      "F99     116832.629063\n",
      "Name: total_cost, Length: 500, dtype: float64\n"
     ]
    }
   ],
   "source": [
    "allocation_results['total_cost'] = allocation_results['allocated_units'] * allocation_results['cost_per_unit']\n",
    "print(\"\\nTotal Cost per Factory:\")\n",
    "total_cost_per_factory = allocation_results.groupby('factory_id')['total_cost'].sum()\n",
    "print(total_cost_per_factory)"
   ]
  },
  {
   "cell_type": "code",
   "execution_count": 52,
   "metadata": {},
   "outputs": [
    {
     "name": "stdout",
     "output_type": "stream",
     "text": [
      "\n",
      "Local-for-Local Allocations:\n",
      "local_for_local\n",
      "0         True\n",
      "1         True\n",
      "2         True\n",
      "3         True\n",
      "4         True\n",
      "          ... \n",
      "167409    True\n",
      "167410    True\n",
      "167411    True\n",
      "167412    True\n",
      "167413    True\n",
      "Name: local_for_local, Length: 167414, dtype: bool    167414\n",
      "Name: count, dtype: int64\n"
     ]
    }
   ],
   "source": [
    "print(\"\\nLocal-for-Local Allocations:\")\n",
    "local_allocations = allocation_results['local_for_local'].value_counts()\n",
    "print(local_allocations)"
   ]
  },
  {
   "cell_type": "code",
   "execution_count": 53,
   "metadata": {},
   "outputs": [
    {
     "name": "stdout",
     "output_type": "stream",
     "text": [
      "\n",
      "Detailed Allocation per Item:\n",
      "                              allocated_units   total_cost\n",
      "item_id factory_id vendor_id                              \n",
      "1       F1         V192             15.112371   293.840656\n",
      "        F104       V192             18.159220   353.082723\n",
      "        F109       V192             18.402968   357.822089\n",
      "        F11        V192             12.065522   234.598588\n",
      "        F113       V192              8.896799   172.986838\n",
      "...                                       ...          ...\n",
      "1000    F82        V179             10.301894   984.323300\n",
      "        F87        V179              8.295032   792.572008\n",
      "        F90        V179             22.343070  2134.831053\n",
      "        F96        V179             13.646665  1303.908787\n",
      "        F99        V179              8.295032   792.572008\n",
      "\n",
      "[167414 rows x 2 columns]\n"
     ]
    }
   ],
   "source": [
    "print(\"\\nDetailed Allocation per Item:\")\n",
    "item_allocation = allocation_results.groupby(['item_id', 'factory_id', 'vendor_id']).agg({'allocated_units': 'sum', 'total_cost': 'sum'})\n",
    "print(item_allocation)"
   ]
  },
  {
   "cell_type": "code",
   "execution_count": 54,
   "metadata": {},
   "outputs": [
    {
     "name": "stdout",
     "output_type": "stream",
     "text": [
      "\n",
      "Allocation Distribution by PP_Type:\n",
      "PP_Type\n",
      "Type1    552967.905639\n",
      "Type2    516970.182691\n",
      "Type3    482117.433164\n",
      "Type4    519857.962821\n",
      "Name: allocated_units, dtype: float64\n"
     ]
    }
   ],
   "source": [
    "print(\"\\nAllocation Distribution by PP_Type:\")\n",
    "pp_type_allocation = allocation_results.groupby('PP_Type')['allocated_units'].sum()\n",
    "print(pp_type_allocation)\n"
   ]
  }
 ],
 "metadata": {
  "kernelspec": {
   "display_name": "Python 3",
   "language": "python",
   "name": "python3"
  },
  "language_info": {
   "codemirror_mode": {
    "name": "ipython",
    "version": 3
   },
   "file_extension": ".py",
   "mimetype": "text/x-python",
   "name": "python",
   "nbconvert_exporter": "python",
   "pygments_lexer": "ipython3",
   "version": "3.11.8"
  }
 },
 "nbformat": 4,
 "nbformat_minor": 2
}
