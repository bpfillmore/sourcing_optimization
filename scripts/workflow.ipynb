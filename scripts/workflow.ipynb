{
 "cells": [
  {
   "cell_type": "markdown",
   "metadata": {},
   "source": [
    "# Load Required Packages"
   ]
  },
  {
   "cell_type": "code",
   "execution_count": null,
   "metadata": {},
   "outputs": [],
   "source": [
    "import pandas as pd\n",
    "import numpy as np\n"
   ]
  },
  {
   "cell_type": "markdown",
   "metadata": {},
   "source": [
    "# Load Dummy Data"
   ]
  },
  {
   "cell_type": "code",
   "execution_count": null,
   "metadata": {},
   "outputs": [],
   "source": [
    "np.random.seed(42)\n",
    "\n",
    "# Generate vendors data\n",
    "vendors = pd.DataFrame({\n",
    "    'vendor_id': [f'V{i}' for i in range(1, 201)],\n",
    "    'vendor_country': np.random.choice(['Country A', 'Country B', 'Country C'], size=200)\n",
    "})\n",
    "\n",
    "# Generate items data\n",
    "items = pd.DataFrame({\n",
    "    'item_id': range(1, 1001),\n",
    "    'PP_Type': np.random.choice(['Type1', 'Type2', 'Type3', 'Type4'], size=1000)\n",
    "})\n",
    "\n",
    "# Merge items with vendors to create a merged dataframe\n",
    "merged_df = items.copy()\n",
    "merged_df['vendor_id'] = np.random.choice(vendors['vendor_id'], size=1000)\n",
    "merged_df['vendor_country'] = merged_df['vendor_id'].map(vendors.set_index('vendor_id')['vendor_country'])\n",
    "merged_df['cost_per_unit'] = np.random.uniform(10, 100, size=1000)\n",
    "\n",
    "# Generate factory demand data\n",
    "factory_demand_df = pd.DataFrame({\n",
    "    'factory_id': [f'F{i}' for i in range(1, 501)],\n",
    "    'factory_country': np.random.choice(['Country A', 'Country B', 'Country C'], size=500),\n",
    "    'VOLUME': np.random.randint(50, 200, size=500)\n",
    "})\n",
    "\n",
    "# Generate target volume data for vendors\n",
    "target_volume_df = pd.DataFrame({\n",
    "    'vendor_id': [f'V{i}' for i in range(1, 201)],\n",
    "    'target_allocation_pct': np.random.uniform(0.05, 0.15, size=200),\n",
    "    'acceptable_range_pct': np.random.uniform(5, 10, size=200),\n",
    "    'PP_Type': np.random.choice(['Type1', 'Type2', 'Type3', 'Type4'], size=200)\n",
    "})\n",
    "\n",
    "# Define constraints\n",
    "constraints = {\n",
    "    'unacceptable_pairs': [(np.random.randint(1, 1001), f'F{np.random.randint(1, 501)}') for _ in range(10)]\n",
    "}\n"
   ]
  },
  {
   "cell_type": "markdown",
   "metadata": {},
   "source": [
    "# Define Functions"
   ]
  },
  {
   "cell_type": "markdown",
   "metadata": {},
   "source": [
    "## Pre-Processing"
   ]
  },
  {
   "cell_type": "code",
   "execution_count": null,
   "metadata": {},
   "outputs": [],
   "source": [
    "def preprocess_data(merged_df, constraints=None):\n",
    "    if constraints and 'unacceptable_pairs' in constraints:\n",
    "        for item_id, factory_id in constraints['unacceptable_pairs']:\n",
    "            merged_df = merged_df[~((merged_df['item_id'] == item_id) & (merged_df['factory_id'] == factory_id))]\n",
    "    return merged_df\n"
   ]
  },
  {
   "cell_type": "markdown",
   "metadata": {},
   "source": [
    "## Winning Supplier"
   ]
  },
  {
   "cell_type": "code",
   "execution_count": null,
   "metadata": {},
   "outputs": [],
   "source": [
    "def select_winning_supplier(merged_df, factory_demand_df):\n",
    "    selected_suppliers = []\n",
    "\n",
    "    for _, factory in factory_demand_df.iterrows():\n",
    "        factory_id = factory['factory_id']\n",
    "        factory_country = factory['factory_country']\n",
    "\n",
    "        # Prioritize local suppliers first\n",
    "        local_suppliers = merged_df[merged_df['vendor_country'] == factory_country]\n",
    "        non_local_suppliers = merged_df[merged_df['vendor_country'] != factory_country]\n",
    "\n",
    "        for suppliers in [local_suppliers, non_local_suppliers]:\n",
    "            sorted_suppliers = suppliers.sort_values(by='cost_per_unit')\n",
    "            for _, item in sorted_suppliers.iterrows():\n",
    "                selected_suppliers.append({\n",
    "                    'item_id': item['item_id'],\n",
    "                    'vendor_id': item['vendor_id'],\n",
    "                    'factory_id': factory_id,\n",
    "                    'cost_per_unit': item['cost_per_unit'],\n",
    "                    'vendor_country': item['vendor_country'],\n",
    "                    'local_for_local': item['vendor_country'] == factory_country,\n",
    "                    # Include other relevant item and vendor details as needed\n",
    "                })\n",
    "\n",
    "    return pd.DataFrame(selected_suppliers)\n"
   ]
  },
  {
   "cell_type": "markdown",
   "metadata": {},
   "source": [
    "## Winning Factory"
   ]
  },
  {
   "cell_type": "code",
   "execution_count": null,
   "metadata": {},
   "outputs": [],
   "source": [
    "def allocate_to_factories(selected_suppliers, target_volume_df, factory_demand_df):\n",
    "    allocation_result = []\n",
    "\n",
    "    for _, allocation in selected_suppliers.iterrows():\n",
    "        vendor_id = allocation['vendor_id']\n",
    "        item_id = allocation['item_id']\n",
    "        factory_id = allocation['factory_id']\n",
    "\n",
    "        target_volume_data = target_volume_df[target_volume_df['vendor_id'] == vendor_id]\n",
    "        factory_data = factory_demand_df[factory_demand_df['factory_id'] == factory_id]\n",
    "\n",
    "        if not target_volume_data.empty and not factory_data.empty:\n",
    "            target_allocation = target_volume_data['target_allocation_pct'].iloc[0] * factory_data['VOLUME'].iloc[0]\n",
    "\n",
    "            allocation_result.append({\n",
    "                'item_id': item_id,\n",
    "                'factory_id': factory_id,\n",
    "                'vendor_id': vendor_id,\n",
    "                'allocated_units': target_allocation,\n",
    "                # Carry forward additional details as necessary\n",
    "                'cost_per_unit': allocation['cost_per_unit'],\n",
    "                'vendor_country': allocation['vendor_country'],\n",
    "                'local_for_local': allocation['local_for_local'],\n",
    "                # Add other relevant details here\n",
    "            })\n",
    "\n",
    "    return pd.DataFrame(allocation_result)\n"
   ]
  },
  {
   "cell_type": "markdown",
   "metadata": {},
   "source": [
    "# Execute the Workflow"
   ]
  },
  {
   "cell_type": "code",
   "execution_count": null,
   "metadata": {},
   "outputs": [],
   "source": [
    "processed_merged_df = preprocess_data(merged_df, constraints)\n",
    "winning_suppliers = select_winning_supplier(processed_merged_df, factory_demand_df)\n",
    "allocation_results = allocate_to_factories(winning_suppliers, target_volume_df, factory_demand_df)\n"
   ]
  },
  {
   "cell_type": "markdown",
   "metadata": {},
   "source": [
    "# Explore Results"
   ]
  },
  {
   "cell_type": "code",
   "execution_count": null,
   "metadata": {},
   "outputs": [],
   "source": [
    "print(\"Basic Statistics:\")\n",
    "print(allocation_results.describe())\n"
   ]
  },
  {
   "cell_type": "code",
   "execution_count": null,
   "metadata": {},
   "outputs": [],
   "source": [
    "print(\"\\nAllocation Distribution by Factory:\")\n",
    "factory_allocation = allocation_results.groupby('factory_id')['allocated_units'].sum()\n",
    "print(factory_allocation)\n"
   ]
  },
  {
   "cell_type": "code",
   "execution_count": null,
   "metadata": {},
   "outputs": [],
   "source": [
    "print(\"\\nAllocation Distribution by Vendor:\")\n",
    "vendor_allocation = allocation_results.groupby('vendor_id')['allocated_units'].sum()\n",
    "print(vendor_allocation)\n"
   ]
  },
  {
   "cell_type": "code",
   "execution_count": null,
   "metadata": {},
   "outputs": [],
   "source": [
    "allocation_results['total_cost'] = allocation_results['allocated_units'] * allocation_results['cost_per_unit']\n",
    "print(\"\\nTotal Cost per Factory:\")\n",
    "total_cost_per_factory = allocation_results.groupby('factory_id')['total_cost'].sum()\n",
    "print(total_cost_per_factory)\n"
   ]
  },
  {
   "cell_type": "code",
   "execution_count": null,
   "metadata": {},
   "outputs": [],
   "source": [
    "print(\"\\nLocal-for-Local Allocations:\")\n",
    "local_allocations = allocation_results['local_for_local'].value_counts()\n",
    "print(local_allocations)\n"
   ]
  },
  {
   "cell_type": "code",
   "execution_count": null,
   "metadata": {},
   "outputs": [],
   "source": [
    "print(\"\\nDetailed Allocation per Item:\")\n",
    "item_allocation = allocation_results.groupby(['item_id', 'factory_id', 'vendor_id']).agg({'allocated_units': 'sum', 'total_cost': 'sum'})\n",
    "print(item_allocation)\n"
   ]
  },
  {
   "cell_type": "code",
   "execution_count": null,
   "metadata": {},
   "outputs": [],
   "source": [
    "# Assuming PP_Type is part of the allocation results\n",
    "print(\"\\nAllocation Distribution by PP_Type:\")\n",
    "pp_type_allocation = allocation_results.groupby('PP_Type')['allocated_units'].sum()\n",
    "print(pp_type_allocation)\n"
   ]
  }
 ],
 "metadata": {
  "language_info": {
   "name": "python"
  }
 },
 "nbformat": 4,
 "nbformat_minor": 2
}
