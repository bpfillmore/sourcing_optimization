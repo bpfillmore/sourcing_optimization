{
 "cells": [
  {
   "cell_type": "markdown",
   "metadata": {},
   "source": [
    "# Sourcing Optimzation Script"
   ]
  },
  {
   "cell_type": "markdown",
   "metadata": {},
   "source": [
    "## Run Functions"
   ]
  },
  {
   "cell_type": "code",
   "execution_count": null,
   "metadata": {},
   "outputs": [],
   "source": [
    "processed_merged_df = preprocess_data(merged_df, constraints)\n",
    "winning_suppliers = select_winning_supplier(processed_merged_df, factory_demand_df)\n",
    "allocation_results = allocate_to_factories(winning_suppliers, target_volume_df, factory_demand_df)\n"
   ]
  },
  {
   "cell_type": "markdown",
   "metadata": {},
   "source": [
    "## Explore Results"
   ]
  },
  {
   "cell_type": "code",
   "execution_count": null,
   "metadata": {},
   "outputs": [],
   "source": [
    "print(\"Allocation Summary:\")\n",
    "print(allocation_results.describe())\n",
    "\n",
    "print(\"\\nTotal Allocated Units per Factory:\")\n",
    "print(allocation_results.groupby('factory_id')['allocated_units'].sum())\n",
    "\n",
    "print(\"\\nTotal Allocated Units per Vendor:\")\n",
    "print(allocation_results.groupby('vendor_id')['allocated_units'].sum())\n"
   ]
  }
 ],
 "metadata": {
  "language_info": {
   "name": "python"
  }
 },
 "nbformat": 4,
 "nbformat_minor": 2
}
