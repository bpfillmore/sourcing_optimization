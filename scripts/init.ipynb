{
 "cells": [
  {
   "cell_type": "markdown",
   "metadata": {},
   "source": [
    "# Sourcing Optimzation Script"
   ]
  },
  {
   "cell_type": "markdown",
   "metadata": {},
   "source": [
    "## Import packages and input files"
   ]
  },
  {
   "cell_type": "code",
   "execution_count": null,
   "metadata": {},
   "outputs": [],
   "source": [
    "import pandas as pd\n",
    "\n",
    "# Mock data for merged_df (items and bids merged)\n",
    "merged_df = pd.DataFrame({\n",
    "    'item_id': [1, 2, 1, 3],\n",
    "    'vendor_id': ['V1', 'V2', 'V1', 'V3'],\n",
    "    'vendor_country': ['Country A', 'Country B', 'Country A', 'Country A'],\n",
    "    'cost_per_unit': [10, 15, 12, 11],\n",
    "    'factory_id': ['F1', 'F1', 'F2', 'F2'],\n",
    "    'PP_Type': ['Type1', 'Type1', 'Type2', 'Type2']\n",
    "})\n",
    "\n",
    "# Mock data for target_volume_df\n",
    "target_volume_df = pd.DataFrame({\n",
    "    'vendor_id': ['V1', 'V2', 'V3'],\n",
    "    'target_allocation_pct': [0.5, 0.3, 0.2],\n",
    "    'acceptable_range_pct': [10, 20, 15],  # This means +/- 10%, 20%, 15%\n",
    "    'PP_Type': ['Type1', 'Type1', 'Type2']\n",
    "})\n",
    "\n",
    "# Mock data for factory_demand_df\n",
    "factory_demand_df = pd.DataFrame({\n",
    "    'factory_id': ['F1', 'F2'],\n",
    "    'factory_country': ['Country A', 'Country B'],\n",
    "    'VOLUME': [100, 200]\n",
    "})\n"
   ]
  },
  {
   "cell_type": "markdown",
   "metadata": {},
   "source": [
    "## Run Pre-Processing Function"
   ]
  },
  {
   "cell_type": "code",
   "execution_count": null,
   "metadata": {},
   "outputs": [],
   "source": [
    "constraints = {\n",
    "    'unacceptable_pairs': [(1, 'F2')]  # Example constraint\n",
    "}\n",
    "\n",
    "allocation_results = allocate_units_local_for_local(merged_df, target_volume_df, factory_demand_df, constraints)\n"
   ]
  },
  {
   "cell_type": "markdown",
   "metadata": {},
   "source": [
    "## Run Main Function"
   ]
  },
  {
   "cell_type": "code",
   "execution_count": null,
   "metadata": {},
   "outputs": [],
   "source": [
    "def allocate_units_local_for_local(merged_df, target_volume_df, factory_demand_df, constraints=None):\n",
    "    # Pre-processing step\n",
    "    merged_df, factory_demand_df = preprocess_data(merged_df, factory_demand_df, constraints)\n",
    "\n",
    "    # Allocation logic follows...\n",
    "    ...\n"
   ]
  },
  {
   "cell_type": "markdown",
   "metadata": {},
   "source": [
    "## Check Results"
   ]
  },
  {
   "cell_type": "code",
   "execution_count": null,
   "metadata": {},
   "outputs": [],
   "source": [
    "# Example analysis\n",
    "print(\"Allocation Results Summary:\")\n",
    "print(allocation_results.groupby('vendor_id').sum())\n"
   ]
  },
  {
   "cell_type": "markdown",
   "metadata": {},
   "source": [
    "# New Workflow"
   ]
  },
  {
   "cell_type": "code",
   "execution_count": null,
   "metadata": {},
   "outputs": [],
   "source": [
    "constraints = {\n",
    "    'unacceptable_pairs': [(1, 'F2'), (2, 'F1')]  # Example constraints\n",
    "}\n",
    "\n",
    "# Preprocess the data\n",
    "processed_merged_df, processed_target_volume_df, processed_factory_demand_df = preprocess_data(\n",
    "    merged_df, target_volume_df, factory_demand_df, constraints)\n",
    "\n",
    "# Select winning suppliers\n",
    "winning_suppliers = select_winning_supplier(processed_merged_df, processed_factory_demand_df)\n",
    "\n",
    "# Allocate units to factories\n",
    "allocation_results = allocate_to_factories(winning_suppliers, processed_target_volume_df, processed_factory_demand_df)\n"
   ]
  }
 ],
 "metadata": {
  "language_info": {
   "name": "python"
  }
 },
 "nbformat": 4,
 "nbformat_minor": 2
}
