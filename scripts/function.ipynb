{
 "cells": [
  {
   "cell_type": "markdown",
   "metadata": {},
   "source": [
    "# Create Sourcing Optimization Function"
   ]
  },
  {
   "cell_type": "code",
   "execution_count": null,
   "metadata": {},
   "outputs": [],
   "source": [
    "def allocate_units_local_for_local(merged_df, target_volume_df, factory_demand_df):\n",
    "    total_units_required = factory_demand_df['VOLUME'].sum()\n",
    "\n",
    "    # Initialize allocated_units and local_for_local columns in merged_df\n",
    "    merged_df['allocated_units'] = 0\n",
    "    merged_df['local_for_local'] = False  # Initialize as False; will set true in loop if local\n",
    "\n",
    "    allocation_result = []\n",
    "\n",
    "    for _, factory in factory_demand_df.iterrows():\n",
    "        required_units = factory['VOLUME']\n",
    "        factory_id = factory['factory_id']\n",
    "        factory_country = factory['factory_country']\n",
    "\n",
    "        # Determine local_for_local status for each vendor in merged_df\n",
    "        for i, item in merged_df.iterrows():\n",
    "            merged_df.at[i, 'local_for_local'] = item['vendor_country'] == factory_country\n",
    "\n",
    "        # Sort by local_for_local and cost_per_unit within each local and non-local group\n",
    "        sorted_merged = merged_df.sort_values(by=['local_for_local', 'cost_per_unit'], ascending=[False, True])\n",
    "\n",
    "        for _, item in sorted_merged.iterrows():\n",
    "            vendor_id = item['vendor_id']\n",
    "            target_volume = target_volume_df[target_volume_df['vendor_id'] == vendor_id]\n",
    "\n",
    "            if not target_volume.empty:\n",
    "                target_pct = target_volume['target_allocation_pct'].iloc[0]\n",
    "                acceptable_range = target_volume['acceptable_range_pct'].iloc[0] / 100.0\n",
    "\n",
    "                min_allocation = (target_pct - acceptable_range) * total_units_required\n",
    "                max_allocation = (target_pct + acceptable_range) * total_units_required\n",
    "\n",
    "                potential_allocation = min(required_units, max_allocation - item['allocated_units'])\n",
    "\n",
    "                if item['allocated_units'] + potential_allocation >= min_allocation:\n",
    "                    allocated_units = potential_allocation\n",
    "                else:\n",
    "                    allocated_units = max(min_allocation - item['allocated_units'], 0)\n",
    "\n",
    "                sorted_merged.loc[item.name, 'allocated_units'] += allocated_units\n",
    "                required_units -= allocated_units\n",
    "\n",
    "                if allocated_units > 0:\n",
    "                    allocation_result.append({\n",
    "                        'factory_id': factory_id,\n",
    "                        'vendor_id': vendor_id,\n",
    "                        'allocated_units': allocated_units,\n",
    "                        'local_for_local': item['local_for_local']\n",
    "                    })\n",
    "\n",
    "                if required_units <= 0:\n",
    "                    break\n",
    "\n",
    "    return pd.DataFrame(allocation_result)\n"
   ]
  }
 ],
 "metadata": {
  "language_info": {
   "name": "python"
  }
 },
 "nbformat": 4,
 "nbformat_minor": 2
}
