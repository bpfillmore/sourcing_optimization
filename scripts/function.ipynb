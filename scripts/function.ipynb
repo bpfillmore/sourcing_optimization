{
 "cells": [
  {
   "cell_type": "markdown",
   "metadata": {},
   "source": [
    "# Create Functions for Model"
   ]
  },
  {
   "cell_type": "markdown",
   "metadata": {},
   "source": [
    "## Create Pre-Processing Function"
   ]
  },
  {
   "cell_type": "code",
   "execution_count": null,
   "metadata": {},
   "outputs": [],
   "source": [
    "def preprocess_data(merged_df, constraints=None):\n",
    "    if constraints and 'unacceptable_pairs' in constraints:\n",
    "        for item_id, factory_id in constraints['unacceptable_pairs']:\n",
    "            merged_df = merged_df[~((merged_df['item_id'] == item_id) & (merged_df['factory_id'] == factory_id))]\n",
    "    return merged_df\n"
   ]
  },
  {
   "cell_type": "markdown",
   "metadata": {},
   "source": [
    "# Break Main Function Apart"
   ]
  },
  {
   "cell_type": "code",
   "execution_count": null,
   "metadata": {},
   "outputs": [],
   "source": []
  },
  {
   "cell_type": "markdown",
   "metadata": {},
   "source": [
    "## Part 1 - Select Winning Supplier"
   ]
  },
  {
   "cell_type": "code",
   "execution_count": null,
   "metadata": {},
   "outputs": [],
   "source": [
    "def select_winning_supplier(merged_df, factory_demand_df):\n",
    "    selected_suppliers = []\n",
    "\n",
    "    for _, factory in factory_demand_df.iterrows():\n",
    "        factory_id = factory['factory_id']\n",
    "        factory_country = factory['factory_country']\n",
    "\n",
    "        merged_df['local_for_local'] = merged_df['vendor_country'] == factory_country\n",
    "        sorted_suppliers = merged_df.sort_values(by=['local_for_local', 'cost_per_unit'], ascending=[False, True])\n",
    "\n",
    "        if not sorted_suppliers.empty:\n",
    "            winning_supplier = sorted_suppliers.iloc[0]\n",
    "            selected_suppliers.append({\n",
    "                'factory_id': factory_id,\n",
    "                'vendor_id': winning_supplier['vendor_id'],\n",
    "                'cost_per_unit': winning_supplier['cost_per_unit'],\n",
    "                'local_for_local': winning_supplier['local_for_local']\n",
    "            })\n",
    "\n",
    "    return pd.DataFrame(selected_suppliers)\n"
   ]
  },
  {
   "cell_type": "markdown",
   "metadata": {},
   "source": [
    "## Part 2 - Allocate To Winning Factories"
   ]
  },
  {
   "cell_type": "code",
   "execution_count": null,
   "metadata": {},
   "outputs": [],
   "source": [
    "def allocate_to_factories(selected_suppliers, target_volume_df, factory_demand_df):\n",
    "    allocation_result = []\n",
    "\n",
    "    for _, supplier in selected_suppliers.iterrows():\n",
    "        vendor_id = supplier['vendor_id']\n",
    "        factory_id = supplier['factory_id']\n",
    "\n",
    "        target_volume_data = target_volume_df[target_volume_df['vendor_id'] == vendor_id]\n",
    "        factory_data = factory_demand_df[factory_demand_df['factory_id'] == factory_id]\n",
    "\n",
    "        if not target_volume_data.empty and not factory_data.empty:\n",
    "            target_allocation = target_volume_data['target_allocation_pct'].iloc[0] * factory_data['VOLUME'].iloc[0]\n",
    "\n",
    "            allocation_result.append({\n",
    "                'factory_id': factory_id,\n",
    "                'vendor_id': vendor_id,\n",
    "                'allocated_units': target_allocation\n",
    "            })\n",
    "\n",
    "    return pd.DataFrame(allocation_result)\n"
   ]
  }
 ],
 "metadata": {
  "language_info": {
   "name": "python"
  }
 },
 "nbformat": 4,
 "nbformat_minor": 2
}
