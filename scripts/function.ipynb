{
 "cells": [
  {
   "cell_type": "markdown",
   "metadata": {},
   "source": [
    "# Create Functions for Model"
   ]
  },
  {
   "cell_type": "markdown",
   "metadata": {},
   "source": [
    "## Create Main Function"
   ]
  },
  {
   "cell_type": "code",
   "execution_count": null,
   "metadata": {},
   "outputs": [],
   "source": [
    "def allocate_units_local_for_local(merged_df, target_volume_df, factory_demand_df, constraints=None):\n",
    "    # Pre-process the data\n",
    "    merged_df, _ = preprocess_data(merged_df, factory_demand_df, constraints)\n",
    "\n",
    "    # Calculate total units required\n",
    "    total_units_required = factory_demand_df['VOLUME'].sum()\n",
    "\n",
    "    # Initialize the 'allocated_units' column in merged_df\n",
    "    merged_df['allocated_units'] = 0\n",
    "\n",
    "    # Start allocation process\n",
    "    allocation_result = []\n",
    "\n",
    "    # Iterate through each factory's demand\n",
    "    for _, factory in factory_demand_df.iterrows():\n",
    "        factory_id = factory['factory_id']\n",
    "        factory_country = factory['factory_country']\n",
    "        required_units = factory['VOLUME']\n",
    "\n",
    "        # Determine if each vendor is local or not and sort by local_for_local and cost\n",
    "        merged_df['local_for_local'] = merged_df['vendor_country'] == factory_country\n",
    "        sorted_vendors = merged_df.sort_values(by=['local_for_local', 'cost_per_unit'], ascending=[False, True])\n",
    "\n",
    "        # Allocate units to this factory from vendors\n",
    "        for _, item in sorted_vendors.iterrows():\n",
    "            vendor_id = item['vendor_id']\n",
    "            vendor_country = item['vendor_country']\n",
    "            cost_per_unit = item['cost_per_unit']\n",
    "\n",
    "            # Find target volume data for this vendor\n",
    "            target_volume_data = target_volume_df[target_volume_df['vendor_id'] == vendor_id]\n",
    "            if not target_volume_data.empty:\n",
    "                target_pct = target_volume_data['target_allocation_pct'].iloc[0]\n",
    "                acceptable_range_pct = target_volume_data['acceptable_range_pct'].iloc[0] / 100.0\n",
    "                min_allocation = (target_pct - acceptable_range_pct) * total_units_required\n",
    "                max_allocation = (target_pct + acceptable_range_pct) * total_units_required\n",
    "\n",
    "                # Determine potential allocation\n",
    "                potential_allocation = min(required_units, max_allocation - item['allocated_units'])\n",
    "\n",
    "                if item['allocated_units'] + potential_allocation >= min_allocation:\n",
    "                    allocated_units = potential_allocation\n",
    "                else:\n",
    "                    allocated_units = max(min_allocation - item['allocated_units'], 0)\n",
    "\n",
    "                # Update the allocated units for the vendor in sorted_vendors\n",
    "                merged_df.loc[merged_df['vendor_id'] == vendor_id, 'allocated_units'] += allocated_units\n",
    "                required_units -= allocated_units\n",
    "\n",
    "                # Record the allocation details\n",
    "                if allocated_units > 0:\n",
    "                    allocation_result.append({\n",
    "                        'factory_id': factory_id,\n",
    "                        'vendor_id': vendor_id,\n",
    "                        'allocated_units': allocated_units,\n",
    "                        'cost_per_unit': cost_per_unit,\n",
    "                        'local_for_local': vendor_country == factory_country\n",
    "                    })\n",
    "\n",
    "                if required_units <= 0:\n",
    "                    break\n",
    "\n",
    "    return pd.DataFrame(allocation_result)\n"
   ]
  },
  {
   "cell_type": "markdown",
   "metadata": {},
   "source": [
    "## Create Pre-Processing Function"
   ]
  },
  {
   "cell_type": "code",
   "execution_count": null,
   "metadata": {},
   "outputs": [],
   "source": [
    "def preprocess_data(merged_df, factory_demand_df, constraints=None):\n",
    "    # Example of filtering based on constraints, if applicable\n",
    "    if constraints and 'unacceptable_pairs' in constraints:\n",
    "        for item_id, factory_id in constraints['unacceptable_pairs']:\n",
    "            merged_df = merged_df[~((merged_df['item_id'] == item_id) & (merged_df['factory_id'] == factory_id))]\n",
    "    \n",
    "    # Additional pre-processing logic can be added here\n",
    "\n",
    "    return merged_df, factory_demand_df\n"
   ]
  }
 ],
 "metadata": {
  "language_info": {
   "name": "python"
  }
 },
 "nbformat": 4,
 "nbformat_minor": 2
}
