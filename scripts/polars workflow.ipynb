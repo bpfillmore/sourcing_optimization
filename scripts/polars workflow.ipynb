{
 "cells": [
  {
   "cell_type": "markdown",
   "metadata": {},
   "source": [
    "# Setup & Creation"
   ]
  },
  {
   "cell_type": "code",
   "execution_count": 6,
   "metadata": {},
   "outputs": [],
   "source": [
    "import polars as pl\n",
    "import numpy as np\n",
    "\n",
    "# Constants\n",
    "num_items = 5000\n",
    "num_suppliers = 20\n",
    "num_countries = 5\n",
    "num_factory_demand_rows = 45000\n",
    "num_target_volume_rows = num_suppliers * num_countries\n",
    "\n",
    "# Create dummy ITEM LIST dataset\n",
    "item_list_data = {\n",
    "    'PDM MTL NUM': [f'MTL{i:04d}' for i in range(1, num_items + 1)],\n",
    "    'NAME': [f'Item{i:04d}' for i in range(1, num_items + 1)],\n",
    "    'ITEM TYPE': [f'Type{i%10}' for i in range(1, num_items + 1)],\n",
    "    'STATE': ['New'] * num_items,\n",
    "    'PDM SPL MTL NAME': [f'Material{i:04d}' for i in range(1, num_items + 1)],\n",
    "    'PCX SPL MTL ID': [f'PCX{i:04d}' for i in range(1, num_items + 1)],\n",
    "    'PCX MTL ID': [f'PCXM{i:04d}' for i in range(1, num_items + 1)],\n",
    "    'SUPPLIER': [f'Supplier{i%num_suppliers + 1}' for i in range(1, num_items + 1)],\n",
    "    'SUPPLIER COUNTRY': [f'Country{i%num_countries + 1}' for i in range(1, num_items + 1)],\n",
    "    'PDM SPL MTL ': [f'SPLMTL{i:04d}' for i in range(1, num_items + 1)],\n",
    "    'PP TYPE': [f'Type{i%3 + 1}' for i in range(1, num_items + 1)],\n",
    "    'CAPACITY CODE': [f'Cap{i%3 + 1}' for i in range(1, num_items + 1)]\n",
    "}\n",
    "item_list_df = pl.DataFrame({k: v if isinstance(v, list) else v.tolist() for k, v in item_list_data.items()})\n",
    "\n",
    "# Create dummy PRICE LIST dataset\n",
    "price_list_data = {\n",
    "    'PDM MTL NUM': [f'MTL{i:04d}' for i in range(1, num_items + 1)],\n",
    "    'ITEM': [f'Item{i:04d}' for i in range(1, num_items + 1)],\n",
    "    'SUPPLIER': [f'Supplier{i%num_suppliers + 1}' for i in range(1, num_items + 1)],\n",
    "    'PDM SPL MTL NAME': [f'Material{i:04d}' for i in range(1, num_items + 1)],\n",
    "    'PCX SPL MTL ID': [f'PCX{i:04d}' for i in range(1, num_items + 1)],\n",
    "    'PCX MTL ID': [f'PCXM{i:04d}' for i in range(1, num_items + 1)],\n",
    "    'BID PRICE': np.random.uniform(10, 100, num_items).tolist(),\n",
    "    'SUPPLIER ': [f'Supplier{i%num_suppliers + 1}' for i in range(1, num_items + 1)],\n",
    "    'SUPPLIER COUNTRY': [f'Country{i%num_countries + 1}' for i in range(1, num_items + 1)],\n",
    "    'PDM SPL MTL NUM': [f'SPLMTL{i:04d}' for i in range(1, num_items + 1)],\n",
    "    'PP TYPE': [f'Type{i%3 + 1}' for i in range(1, num_items + 1)],\n",
    "    'CAPACITY CODE': [f'Cap{i%3 + 1}' for i in range(1, num_items + 1)]\n",
    "}\n",
    "price_list_df = pl.DataFrame({k: v if isinstance(v, list) else v.tolist() for k, v in price_list_data.items()})\n",
    "\n",
    "# Create dummy FACTORY DEMAND dataset\n",
    "factory_demand_data = {\n",
    "    'PDM MTL NUM': [f'MTL{i%num_items + 1:04d}' for i in range(1, num_factory_demand_rows + 1)],\n",
    "    'PCX MTL ID': [f'PCXM{i%num_items + 1:04d}' for i in range(1, num_factory_demand_rows + 1)],\n",
    "    'VOLUME': np.random.choice([0, 1000, 2000], num_factory_demand_rows).tolist(),\n",
    "    'FACTORY CODE': [f'Factory{i%60 + 1}' for i in range(1, num_factory_demand_rows + 1)]\n",
    "}\n",
    "factory_demand_df = pl.DataFrame({k: v if isinstance(v, list) else v.tolist() for k, v in factory_demand_data.items()})\n",
    "\n",
    "# Create dummy TARGET VOLUME dataset\n",
    "target_volume_data = {\n",
    "    'SUPPLIER': [f'Supplier{i%num_suppliers + 1}' for i in range(1, num_target_volume_rows + 1)],\n",
    "    'SUPPLIER COUNTRY': [f'Country{i%num_countries + 1}' for i in range(1, num_target_volume_rows + 1)],\n",
    "    'TARGET %': np.random.uniform(0.01, 0.05, num_target_volume_rows).tolist(),\n",
    "    'TARGET % RANGE': np.random.uniform(0.01, 0.02, num_target_volume_rows).tolist(),\n",
    "    'SUPPLIER TYPE': [f'Type{i%3 + 1}' for i in range(1, num_target_volume_rows + 1)],\n",
    "    'TOTAL VOLUME': np.random.randint(10000, 50000, num_target_volume_rows).tolist()\n",
    "}\n",
    "target_volume_df = pl.DataFrame({k: v if isinstance(v, list) else v.tolist() for k, v in target_volume_data.items()})"
   ]
  },
  {
   "cell_type": "markdown",
   "metadata": {},
   "source": [
    "# Calculate Min and Max Target Volumes"
   ]
  },
  {
   "cell_type": "code",
   "execution_count": 7,
   "metadata": {},
   "outputs": [
    {
     "data": {
      "text/html": [
       "<div><style>\n",
       ".dataframe > thead > tr,\n",
       ".dataframe > tbody > tr {\n",
       "  text-align: right;\n",
       "  white-space: pre-wrap;\n",
       "}\n",
       "</style>\n",
       "<small>shape: (5, 8)</small><table border=\"1\" class=\"dataframe\"><thead><tr><th>SUPPLIER</th><th>SUPPLIER COUNTRY</th><th>TARGET %</th><th>TARGET % RANGE</th><th>SUPPLIER TYPE</th><th>TOTAL VOLUME</th><th>MIN TARGET VOLUME</th><th>MAX TARGET VOLUME</th></tr><tr><td>str</td><td>str</td><td>f64</td><td>f64</td><td>str</td><td>i64</td><td>f64</td><td>f64</td></tr></thead><tbody><tr><td>&quot;Supplier2&quot;</td><td>&quot;Country2&quot;</td><td>0.022332</td><td>0.016341</td><td>&quot;Type2&quot;</td><td>49567</td><td>296.984777</td><td>1916.887001</td></tr><tr><td>&quot;Supplier3&quot;</td><td>&quot;Country3&quot;</td><td>0.012922</td><td>0.019977</td><td>&quot;Type3&quot;</td><td>40147</td><td>-283.238129</td><td>1320.805197</td></tr><tr><td>&quot;Supplier4&quot;</td><td>&quot;Country4&quot;</td><td>0.020354</td><td>0.012104</td><td>&quot;Type1&quot;</td><td>35714</td><td>294.647642</td><td>1159.185176</td></tr><tr><td>&quot;Supplier5&quot;</td><td>&quot;Country5&quot;</td><td>0.024981</td><td>0.018913</td><td>&quot;Type2&quot;</td><td>23022</td><td>139.694223</td><td>1010.537479</td></tr><tr><td>&quot;Supplier6&quot;</td><td>&quot;Country1&quot;</td><td>0.033599</td><td>0.018734</td><td>&quot;Type3&quot;</td><td>25134</td><td>373.611639</td><td>1315.354156</td></tr></tbody></table></div>"
      ],
      "text/plain": [
       "shape: (5, 8)\n",
       "┌───────────┬─────────────┬──────────┬─────────────┬────────────┬────────┬────────────┬────────────┐\n",
       "│ SUPPLIER  ┆ SUPPLIER    ┆ TARGET % ┆ TARGET %    ┆ SUPPLIER   ┆ TOTAL  ┆ MIN TARGET ┆ MAX TARGET │\n",
       "│ ---       ┆ COUNTRY     ┆ ---      ┆ RANGE       ┆ TYPE       ┆ VOLUME ┆ VOLUME     ┆ VOLUME     │\n",
       "│ str       ┆ ---         ┆ f64      ┆ ---         ┆ ---        ┆ ---    ┆ ---        ┆ ---        │\n",
       "│           ┆ str         ┆          ┆ f64         ┆ str        ┆ i64    ┆ f64        ┆ f64        │\n",
       "╞═══════════╪═════════════╪══════════╪═════════════╪════════════╪════════╪════════════╪════════════╡\n",
       "│ Supplier2 ┆ Country2    ┆ 0.022332 ┆ 0.016341    ┆ Type2      ┆ 49567  ┆ 296.984777 ┆ 1916.88700 │\n",
       "│           ┆             ┆          ┆             ┆            ┆        ┆            ┆ 1          │\n",
       "│ Supplier3 ┆ Country3    ┆ 0.012922 ┆ 0.019977    ┆ Type3      ┆ 40147  ┆ -283.23812 ┆ 1320.80519 │\n",
       "│           ┆             ┆          ┆             ┆            ┆        ┆ 9          ┆ 7          │\n",
       "│ Supplier4 ┆ Country4    ┆ 0.020354 ┆ 0.012104    ┆ Type1      ┆ 35714  ┆ 294.647642 ┆ 1159.18517 │\n",
       "│           ┆             ┆          ┆             ┆            ┆        ┆            ┆ 6          │\n",
       "│ Supplier5 ┆ Country5    ┆ 0.024981 ┆ 0.018913    ┆ Type2      ┆ 23022  ┆ 139.694223 ┆ 1010.53747 │\n",
       "│           ┆             ┆          ┆             ┆            ┆        ┆            ┆ 9          │\n",
       "│ Supplier6 ┆ Country1    ┆ 0.033599 ┆ 0.018734    ┆ Type3      ┆ 25134  ┆ 373.611639 ┆ 1315.35415 │\n",
       "│           ┆             ┆          ┆             ┆            ┆        ┆            ┆ 6          │\n",
       "└───────────┴─────────────┴──────────┴─────────────┴────────────┴────────┴────────────┴────────────┘"
      ]
     },
     "execution_count": 7,
     "metadata": {},
     "output_type": "execute_result"
    }
   ],
   "source": [
    "# Calculate MIN TARGET VOLUME and MAX TARGET VOLUME\n",
    "target_volume_df = target_volume_df.with_columns([\n",
    "    ((target_volume_df['TARGET %'] - target_volume_df['TARGET % RANGE']) * target_volume_df['TOTAL VOLUME']).alias('MIN TARGET VOLUME'),\n",
    "    ((target_volume_df['TARGET %'] + target_volume_df['TARGET % RANGE']) * target_volume_df['TOTAL VOLUME']).alias('MAX TARGET VOLUME')\n",
    "])\n",
    "\n",
    "target_volume_df.head()"
   ]
  },
  {
   "cell_type": "markdown",
   "metadata": {},
   "source": [
    "# Merge Item and Price Lists"
   ]
  },
  {
   "cell_type": "code",
   "execution_count": 8,
   "metadata": {},
   "outputs": [],
   "source": [
    "# Merge ITEM LIST with PRICE LIST on 'PDM MTL NUM'\n",
    "merged_df = item_list_df.join(price_list_df, on='PCX SPL MTL ID', how='inner')\n",
    "\n",
    "# Prioritize by lower price\n",
    "merged_df = merged_df.sort('BID PRICE')"
   ]
  },
  {
   "cell_type": "code",
   "execution_count": 9,
   "metadata": {},
   "outputs": [
    {
     "data": {
      "text/html": [
       "<div><style>\n",
       ".dataframe > thead > tr,\n",
       ".dataframe > tbody > tr {\n",
       "  text-align: right;\n",
       "  white-space: pre-wrap;\n",
       "}\n",
       "</style>\n",
       "<small>shape: (5, 23)</small><table border=\"1\" class=\"dataframe\"><thead><tr><th>PDM MTL NUM</th><th>NAME</th><th>ITEM TYPE</th><th>STATE</th><th>PDM SPL MTL NAME</th><th>PCX SPL MTL ID</th><th>PCX MTL ID</th><th>SUPPLIER</th><th>SUPPLIER COUNTRY</th><th>PDM SPL MTL </th><th>PP TYPE</th><th>CAPACITY CODE</th><th>PDM MTL NUM_right</th><th>ITEM</th><th>SUPPLIER_right</th><th>PDM SPL MTL NAME_right</th><th>PCX MTL ID_right</th><th>BID PRICE</th><th>SUPPLIER </th><th>SUPPLIER COUNTRY_right</th><th>PDM SPL MTL NUM</th><th>PP TYPE_right</th><th>CAPACITY CODE_right</th></tr><tr><td>str</td><td>str</td><td>str</td><td>str</td><td>str</td><td>str</td><td>str</td><td>str</td><td>str</td><td>str</td><td>str</td><td>str</td><td>str</td><td>str</td><td>str</td><td>str</td><td>str</td><td>f64</td><td>str</td><td>str</td><td>str</td><td>str</td><td>str</td></tr></thead><tbody><tr><td>&quot;MTL2592&quot;</td><td>&quot;Item2592&quot;</td><td>&quot;Type2&quot;</td><td>&quot;New&quot;</td><td>&quot;Material2592&quot;</td><td>&quot;PCX2592&quot;</td><td>&quot;PCXM2592&quot;</td><td>&quot;Supplier13&quot;</td><td>&quot;Country3&quot;</td><td>&quot;SPLMTL2592&quot;</td><td>&quot;Type1&quot;</td><td>&quot;Cap1&quot;</td><td>&quot;MTL2592&quot;</td><td>&quot;Item2592&quot;</td><td>&quot;Supplier13&quot;</td><td>&quot;Material2592&quot;</td><td>&quot;PCXM2592&quot;</td><td>10.019758</td><td>&quot;Supplier13&quot;</td><td>&quot;Country3&quot;</td><td>&quot;SPLMTL2592&quot;</td><td>&quot;Type1&quot;</td><td>&quot;Cap1&quot;</td></tr><tr><td>&quot;MTL2924&quot;</td><td>&quot;Item2924&quot;</td><td>&quot;Type4&quot;</td><td>&quot;New&quot;</td><td>&quot;Material2924&quot;</td><td>&quot;PCX2924&quot;</td><td>&quot;PCXM2924&quot;</td><td>&quot;Supplier5&quot;</td><td>&quot;Country5&quot;</td><td>&quot;SPLMTL2924&quot;</td><td>&quot;Type3&quot;</td><td>&quot;Cap3&quot;</td><td>&quot;MTL2924&quot;</td><td>&quot;Item2924&quot;</td><td>&quot;Supplier5&quot;</td><td>&quot;Material2924&quot;</td><td>&quot;PCXM2924&quot;</td><td>10.070995</td><td>&quot;Supplier5&quot;</td><td>&quot;Country5&quot;</td><td>&quot;SPLMTL2924&quot;</td><td>&quot;Type3&quot;</td><td>&quot;Cap3&quot;</td></tr><tr><td>&quot;MTL4162&quot;</td><td>&quot;Item4162&quot;</td><td>&quot;Type2&quot;</td><td>&quot;New&quot;</td><td>&quot;Material4162&quot;</td><td>&quot;PCX4162&quot;</td><td>&quot;PCXM4162&quot;</td><td>&quot;Supplier3&quot;</td><td>&quot;Country3&quot;</td><td>&quot;SPLMTL4162&quot;</td><td>&quot;Type2&quot;</td><td>&quot;Cap2&quot;</td><td>&quot;MTL4162&quot;</td><td>&quot;Item4162&quot;</td><td>&quot;Supplier3&quot;</td><td>&quot;Material4162&quot;</td><td>&quot;PCXM4162&quot;</td><td>10.073393</td><td>&quot;Supplier3&quot;</td><td>&quot;Country3&quot;</td><td>&quot;SPLMTL4162&quot;</td><td>&quot;Type2&quot;</td><td>&quot;Cap2&quot;</td></tr><tr><td>&quot;MTL2229&quot;</td><td>&quot;Item2229&quot;</td><td>&quot;Type9&quot;</td><td>&quot;New&quot;</td><td>&quot;Material2229&quot;</td><td>&quot;PCX2229&quot;</td><td>&quot;PCXM2229&quot;</td><td>&quot;Supplier10&quot;</td><td>&quot;Country5&quot;</td><td>&quot;SPLMTL2229&quot;</td><td>&quot;Type1&quot;</td><td>&quot;Cap1&quot;</td><td>&quot;MTL2229&quot;</td><td>&quot;Item2229&quot;</td><td>&quot;Supplier10&quot;</td><td>&quot;Material2229&quot;</td><td>&quot;PCXM2229&quot;</td><td>10.07564</td><td>&quot;Supplier10&quot;</td><td>&quot;Country5&quot;</td><td>&quot;SPLMTL2229&quot;</td><td>&quot;Type1&quot;</td><td>&quot;Cap1&quot;</td></tr><tr><td>&quot;MTL4021&quot;</td><td>&quot;Item4021&quot;</td><td>&quot;Type1&quot;</td><td>&quot;New&quot;</td><td>&quot;Material4021&quot;</td><td>&quot;PCX4021&quot;</td><td>&quot;PCXM4021&quot;</td><td>&quot;Supplier2&quot;</td><td>&quot;Country2&quot;</td><td>&quot;SPLMTL4021&quot;</td><td>&quot;Type2&quot;</td><td>&quot;Cap2&quot;</td><td>&quot;MTL4021&quot;</td><td>&quot;Item4021&quot;</td><td>&quot;Supplier2&quot;</td><td>&quot;Material4021&quot;</td><td>&quot;PCXM4021&quot;</td><td>10.084515</td><td>&quot;Supplier2&quot;</td><td>&quot;Country2&quot;</td><td>&quot;SPLMTL4021&quot;</td><td>&quot;Type2&quot;</td><td>&quot;Cap2&quot;</td></tr></tbody></table></div>"
      ],
      "text/plain": [
       "shape: (5, 23)\n",
       "┌────────────┬──────────┬───────────┬───────┬───┬────────────┬────────────┬────────────┬───────────┐\n",
       "│ PDM MTL    ┆ NAME     ┆ ITEM TYPE ┆ STATE ┆ … ┆ SUPPLIER   ┆ PDM SPL    ┆ PP         ┆ CAPACITY  │\n",
       "│ NUM        ┆ ---      ┆ ---       ┆ ---   ┆   ┆ COUNTRY_ri ┆ MTL NUM    ┆ TYPE_right ┆ CODE_righ │\n",
       "│ ---        ┆ str      ┆ str       ┆ str   ┆   ┆ ght        ┆ ---        ┆ ---        ┆ t         │\n",
       "│ str        ┆          ┆           ┆       ┆   ┆ ---        ┆ str        ┆ str        ┆ ---       │\n",
       "│            ┆          ┆           ┆       ┆   ┆ str        ┆            ┆            ┆ str       │\n",
       "╞════════════╪══════════╪═══════════╪═══════╪═══╪════════════╪════════════╪════════════╪═══════════╡\n",
       "│ MTL2592    ┆ Item2592 ┆ Type2     ┆ New   ┆ … ┆ Country3   ┆ SPLMTL2592 ┆ Type1      ┆ Cap1      │\n",
       "│ MTL2924    ┆ Item2924 ┆ Type4     ┆ New   ┆ … ┆ Country5   ┆ SPLMTL2924 ┆ Type3      ┆ Cap3      │\n",
       "│ MTL4162    ┆ Item4162 ┆ Type2     ┆ New   ┆ … ┆ Country3   ┆ SPLMTL4162 ┆ Type2      ┆ Cap2      │\n",
       "│ MTL2229    ┆ Item2229 ┆ Type9     ┆ New   ┆ … ┆ Country5   ┆ SPLMTL2229 ┆ Type1      ┆ Cap1      │\n",
       "│ MTL4021    ┆ Item4021 ┆ Type1     ┆ New   ┆ … ┆ Country2   ┆ SPLMTL4021 ┆ Type2      ┆ Cap2      │\n",
       "└────────────┴──────────┴───────────┴───────┴───┴────────────┴────────────┴────────────┴───────────┘"
      ]
     },
     "execution_count": 9,
     "metadata": {},
     "output_type": "execute_result"
    }
   ],
   "source": [
    "merged_df.head(5)"
   ]
  },
  {
   "cell_type": "markdown",
   "metadata": {},
   "source": [
    "# Apply LOCAL FOR LOCAL logic (matching supplier and factory country)"
   ]
  },
  {
   "cell_type": "code",
   "execution_count": 12,
   "metadata": {},
   "outputs": [
    {
     "data": {
      "text/html": [
       "<div><style>\n",
       ".dataframe > thead > tr,\n",
       ".dataframe > tbody > tr {\n",
       "  text-align: right;\n",
       "  white-space: pre-wrap;\n",
       "}\n",
       "</style>\n",
       "<small>shape: (5, 24)</small><table border=\"1\" class=\"dataframe\"><thead><tr><th>PDM MTL NUM</th><th>NAME</th><th>ITEM TYPE</th><th>STATE</th><th>PDM SPL MTL NAME</th><th>PCX SPL MTL ID</th><th>PCX MTL ID</th><th>SUPPLIER</th><th>SUPPLIER COUNTRY</th><th>PDM SPL MTL </th><th>PP TYPE</th><th>CAPACITY CODE</th><th>PDM MTL NUM_right</th><th>ITEM</th><th>SUPPLIER_right</th><th>PDM SPL MTL NAME_right</th><th>PCX MTL ID_right</th><th>BID PRICE</th><th>SUPPLIER </th><th>SUPPLIER COUNTRY_right</th><th>PDM SPL MTL NUM</th><th>PP TYPE_right</th><th>CAPACITY CODE_right</th><th>LOCAL_FOR_LOCAL</th></tr><tr><td>str</td><td>str</td><td>str</td><td>str</td><td>str</td><td>str</td><td>str</td><td>str</td><td>str</td><td>str</td><td>str</td><td>str</td><td>str</td><td>str</td><td>str</td><td>str</td><td>str</td><td>f64</td><td>str</td><td>str</td><td>str</td><td>str</td><td>str</td><td>bool</td></tr></thead><tbody><tr><td>&quot;MTL2592&quot;</td><td>&quot;Item2592&quot;</td><td>&quot;Type2&quot;</td><td>&quot;New&quot;</td><td>&quot;Material2592&quot;</td><td>&quot;PCX2592&quot;</td><td>&quot;PCXM2592&quot;</td><td>&quot;Supplier13&quot;</td><td>&quot;Country3&quot;</td><td>&quot;SPLMTL2592&quot;</td><td>&quot;Type1&quot;</td><td>&quot;Cap1&quot;</td><td>&quot;MTL2592&quot;</td><td>&quot;Item2592&quot;</td><td>&quot;Supplier13&quot;</td><td>&quot;Material2592&quot;</td><td>&quot;PCXM2592&quot;</td><td>10.019758</td><td>&quot;Supplier13&quot;</td><td>&quot;Country3&quot;</td><td>&quot;SPLMTL2592&quot;</td><td>&quot;Type1&quot;</td><td>&quot;Cap1&quot;</td><td>true</td></tr><tr><td>&quot;MTL2924&quot;</td><td>&quot;Item2924&quot;</td><td>&quot;Type4&quot;</td><td>&quot;New&quot;</td><td>&quot;Material2924&quot;</td><td>&quot;PCX2924&quot;</td><td>&quot;PCXM2924&quot;</td><td>&quot;Supplier5&quot;</td><td>&quot;Country5&quot;</td><td>&quot;SPLMTL2924&quot;</td><td>&quot;Type3&quot;</td><td>&quot;Cap3&quot;</td><td>&quot;MTL2924&quot;</td><td>&quot;Item2924&quot;</td><td>&quot;Supplier5&quot;</td><td>&quot;Material2924&quot;</td><td>&quot;PCXM2924&quot;</td><td>10.070995</td><td>&quot;Supplier5&quot;</td><td>&quot;Country5&quot;</td><td>&quot;SPLMTL2924&quot;</td><td>&quot;Type3&quot;</td><td>&quot;Cap3&quot;</td><td>true</td></tr><tr><td>&quot;MTL4162&quot;</td><td>&quot;Item4162&quot;</td><td>&quot;Type2&quot;</td><td>&quot;New&quot;</td><td>&quot;Material4162&quot;</td><td>&quot;PCX4162&quot;</td><td>&quot;PCXM4162&quot;</td><td>&quot;Supplier3&quot;</td><td>&quot;Country3&quot;</td><td>&quot;SPLMTL4162&quot;</td><td>&quot;Type2&quot;</td><td>&quot;Cap2&quot;</td><td>&quot;MTL4162&quot;</td><td>&quot;Item4162&quot;</td><td>&quot;Supplier3&quot;</td><td>&quot;Material4162&quot;</td><td>&quot;PCXM4162&quot;</td><td>10.073393</td><td>&quot;Supplier3&quot;</td><td>&quot;Country3&quot;</td><td>&quot;SPLMTL4162&quot;</td><td>&quot;Type2&quot;</td><td>&quot;Cap2&quot;</td><td>true</td></tr><tr><td>&quot;MTL2229&quot;</td><td>&quot;Item2229&quot;</td><td>&quot;Type9&quot;</td><td>&quot;New&quot;</td><td>&quot;Material2229&quot;</td><td>&quot;PCX2229&quot;</td><td>&quot;PCXM2229&quot;</td><td>&quot;Supplier10&quot;</td><td>&quot;Country5&quot;</td><td>&quot;SPLMTL2229&quot;</td><td>&quot;Type1&quot;</td><td>&quot;Cap1&quot;</td><td>&quot;MTL2229&quot;</td><td>&quot;Item2229&quot;</td><td>&quot;Supplier10&quot;</td><td>&quot;Material2229&quot;</td><td>&quot;PCXM2229&quot;</td><td>10.07564</td><td>&quot;Supplier10&quot;</td><td>&quot;Country5&quot;</td><td>&quot;SPLMTL2229&quot;</td><td>&quot;Type1&quot;</td><td>&quot;Cap1&quot;</td><td>true</td></tr><tr><td>&quot;MTL4021&quot;</td><td>&quot;Item4021&quot;</td><td>&quot;Type1&quot;</td><td>&quot;New&quot;</td><td>&quot;Material4021&quot;</td><td>&quot;PCX4021&quot;</td><td>&quot;PCXM4021&quot;</td><td>&quot;Supplier2&quot;</td><td>&quot;Country2&quot;</td><td>&quot;SPLMTL4021&quot;</td><td>&quot;Type2&quot;</td><td>&quot;Cap2&quot;</td><td>&quot;MTL4021&quot;</td><td>&quot;Item4021&quot;</td><td>&quot;Supplier2&quot;</td><td>&quot;Material4021&quot;</td><td>&quot;PCXM4021&quot;</td><td>10.084515</td><td>&quot;Supplier2&quot;</td><td>&quot;Country2&quot;</td><td>&quot;SPLMTL4021&quot;</td><td>&quot;Type2&quot;</td><td>&quot;Cap2&quot;</td><td>true</td></tr></tbody></table></div>"
      ],
      "text/plain": [
       "shape: (5, 24)\n",
       "┌────────────┬──────────┬───────────┬───────┬───┬────────────┬────────────┬────────────┬───────────┐\n",
       "│ PDM MTL    ┆ NAME     ┆ ITEM TYPE ┆ STATE ┆ … ┆ PDM SPL    ┆ PP         ┆ CAPACITY   ┆ LOCAL_FOR │\n",
       "│ NUM        ┆ ---      ┆ ---       ┆ ---   ┆   ┆ MTL NUM    ┆ TYPE_right ┆ CODE_right ┆ _LOCAL    │\n",
       "│ ---        ┆ str      ┆ str       ┆ str   ┆   ┆ ---        ┆ ---        ┆ ---        ┆ ---       │\n",
       "│ str        ┆          ┆           ┆       ┆   ┆ str        ┆ str        ┆ str        ┆ bool      │\n",
       "╞════════════╪══════════╪═══════════╪═══════╪═══╪════════════╪════════════╪════════════╪═══════════╡\n",
       "│ MTL2592    ┆ Item2592 ┆ Type2     ┆ New   ┆ … ┆ SPLMTL2592 ┆ Type1      ┆ Cap1       ┆ true      │\n",
       "│ MTL2924    ┆ Item2924 ┆ Type4     ┆ New   ┆ … ┆ SPLMTL2924 ┆ Type3      ┆ Cap3       ┆ true      │\n",
       "│ MTL4162    ┆ Item4162 ┆ Type2     ┆ New   ┆ … ┆ SPLMTL4162 ┆ Type2      ┆ Cap2       ┆ true      │\n",
       "│ MTL2229    ┆ Item2229 ┆ Type9     ┆ New   ┆ … ┆ SPLMTL2229 ┆ Type1      ┆ Cap1       ┆ true      │\n",
       "│ MTL4021    ┆ Item4021 ┆ Type1     ┆ New   ┆ … ┆ SPLMTL4021 ┆ Type2      ┆ Cap2       ┆ true      │\n",
       "└────────────┴──────────┴───────────┴───────┴───┴────────────┴────────────┴────────────┴───────────┘"
      ]
     },
     "execution_count": 12,
     "metadata": {},
     "output_type": "execute_result"
    }
   ],
   "source": [
    "merged_df = merged_df.with_columns(\n",
    "    (merged_df['SUPPLIER COUNTRY'] == merged_df['SUPPLIER COUNTRY_right']).alias('LOCAL_FOR_LOCAL')\n",
    ")\n",
    "merged_df = merged_df.sort(['BID PRICE', 'LOCAL_FOR_LOCAL'], descending=[False, True])\n",
    "\n",
    "merged_df.head()"
   ]
  },
  {
   "cell_type": "markdown",
   "metadata": {},
   "source": [
    "# Define Allocation Function"
   ]
  },
  {
   "cell_type": "code",
   "execution_count": 17,
   "metadata": {},
   "outputs": [],
   "source": [
    "# Define a function for allocation based on target volume and factory demand\n",
    "def allocate_volume(merged_df, target_volume_df, factory_demand_df):\n",
    "    allocations = []\n",
    "    \n",
    "    for supplier in target_volume_df.iter_rows(named=True):\n",
    "        supplier_name = supplier['SUPPLIER']\n",
    "        min_volume = supplier['MIN TARGET VOLUME']\n",
    "        max_volume = supplier['MAX TARGET VOLUME']\n",
    "        supplier_df = merged_df.filter(pl.col('SUPPLIER_right') == supplier_name)\n",
    "        \n",
    "        allocated_volume = 0\n",
    "        for row in supplier_df.iter_rows(named=True):\n",
    "            if allocated_volume >= max_volume:\n",
    "                break\n",
    "\n",
    "            factory_options = factory_demand_df.filter(pl.col('PDM MTL NUM') == row['PDM MTL NUM'])\n",
    "            for factory in factory_options.iter_rows(named=True):\n",
    "                if allocated_volume >= max_volume:\n",
    "                    break\n",
    "                if factory['VOLUME'] > 0:\n",
    "                    volume_to_allocate = min(max_volume - allocated_volume, factory['VOLUME'])\n",
    "                    allocations.append({\n",
    "                        'PCX SPL MTL ID': row['PCX SPL MTL ID'],\n",
    "                        'PDM MTL NUM': row['PDM MTL NUM'],\n",
    "                        'SUPPLIER': row['SUPPLIER_right'],\n",
    "                        'FACTORY CODE': factory['FACTORY CODE'],\n",
    "                        'ALLOCATION (UNITS)': volume_to_allocate,\n",
    "                        'PRICE': row['BID PRICE']\n",
    "                    })\n",
    "                    allocated_volume += volume_to_allocate\n",
    "                    factory['VOLUME'] -= volume_to_allocate\n",
    "    \n",
    "    return pl.DataFrame(allocations)"
   ]
  },
  {
   "cell_type": "markdown",
   "metadata": {},
   "source": [
    "# Perform Allocation and Save Results"
   ]
  },
  {
   "cell_type": "code",
   "execution_count": 18,
   "metadata": {},
   "outputs": [
    {
     "data": {
      "text/html": [
       "<div><style>\n",
       ".dataframe > thead > tr,\n",
       ".dataframe > tbody > tr {\n",
       "  text-align: right;\n",
       "  white-space: pre-wrap;\n",
       "}\n",
       "</style>\n",
       "<small>shape: (10, 6)</small><table border=\"1\" class=\"dataframe\"><thead><tr><th>PCX SPL MTL ID</th><th>PDM MTL NUM</th><th>SUPPLIER</th><th>FACTORY CODE</th><th>ALLOCATION (UNITS)</th><th>PRICE</th></tr><tr><td>str</td><td>str</td><td>str</td><td>str</td><td>f64</td><td>f64</td></tr></thead><tbody><tr><td>&quot;PCX4021&quot;</td><td>&quot;MTL4021&quot;</td><td>&quot;Supplier2&quot;</td><td>&quot;Factory21&quot;</td><td>1000.0</td><td>10.084515</td></tr><tr><td>&quot;PCX4021&quot;</td><td>&quot;MTL4021&quot;</td><td>&quot;Supplier2&quot;</td><td>&quot;Factory41&quot;</td><td>916.887001</td><td>10.084515</td></tr><tr><td>&quot;PCX4162&quot;</td><td>&quot;MTL4162&quot;</td><td>&quot;Supplier3&quot;</td><td>&quot;Factory42&quot;</td><td>1320.805197</td><td>10.073393</td></tr><tr><td>&quot;PCX0683&quot;</td><td>&quot;MTL0683&quot;</td><td>&quot;Supplier4&quot;</td><td>&quot;Factory23&quot;</td><td>1159.185176</td><td>10.243182</td></tr><tr><td>&quot;PCX2924&quot;</td><td>&quot;MTL2924&quot;</td><td>&quot;Supplier5&quot;</td><td>&quot;Factory4&quot;</td><td>1010.537479</td><td>10.070995</td></tr><tr><td>&quot;PCX2805&quot;</td><td>&quot;MTL2805&quot;</td><td>&quot;Supplier6&quot;</td><td>&quot;Factory25&quot;</td><td>1000.0</td><td>10.332189</td></tr><tr><td>&quot;PCX2805&quot;</td><td>&quot;MTL2805&quot;</td><td>&quot;Supplier6&quot;</td><td>&quot;Factory45&quot;</td><td>315.354156</td><td>10.332189</td></tr><tr><td>&quot;PCX0986&quot;</td><td>&quot;MTL0986&quot;</td><td>&quot;Supplier7&quot;</td><td>&quot;Factory26&quot;</td><td>2000.0</td><td>10.142198</td></tr><tr><td>&quot;PCX0986&quot;</td><td>&quot;MTL0986&quot;</td><td>&quot;Supplier7&quot;</td><td>&quot;Factory46&quot;</td><td>11.653521</td><td>10.142198</td></tr><tr><td>&quot;PCX4767&quot;</td><td>&quot;MTL4767&quot;</td><td>&quot;Supplier8&quot;</td><td>&quot;Factory27&quot;</td><td>1000.0</td><td>10.499483</td></tr></tbody></table></div>"
      ],
      "text/plain": [
       "shape: (10, 6)\n",
       "┌────────────────┬─────────────┬───────────┬──────────────┬────────────────────┬───────────┐\n",
       "│ PCX SPL MTL ID ┆ PDM MTL NUM ┆ SUPPLIER  ┆ FACTORY CODE ┆ ALLOCATION (UNITS) ┆ PRICE     │\n",
       "│ ---            ┆ ---         ┆ ---       ┆ ---          ┆ ---                ┆ ---       │\n",
       "│ str            ┆ str         ┆ str       ┆ str          ┆ f64                ┆ f64       │\n",
       "╞════════════════╪═════════════╪═══════════╪══════════════╪════════════════════╪═══════════╡\n",
       "│ PCX4021        ┆ MTL4021     ┆ Supplier2 ┆ Factory21    ┆ 1000.0             ┆ 10.084515 │\n",
       "│ PCX4021        ┆ MTL4021     ┆ Supplier2 ┆ Factory41    ┆ 916.887001         ┆ 10.084515 │\n",
       "│ PCX4162        ┆ MTL4162     ┆ Supplier3 ┆ Factory42    ┆ 1320.805197        ┆ 10.073393 │\n",
       "│ PCX0683        ┆ MTL0683     ┆ Supplier4 ┆ Factory23    ┆ 1159.185176        ┆ 10.243182 │\n",
       "│ PCX2924        ┆ MTL2924     ┆ Supplier5 ┆ Factory4     ┆ 1010.537479        ┆ 10.070995 │\n",
       "│ PCX2805        ┆ MTL2805     ┆ Supplier6 ┆ Factory25    ┆ 1000.0             ┆ 10.332189 │\n",
       "│ PCX2805        ┆ MTL2805     ┆ Supplier6 ┆ Factory45    ┆ 315.354156         ┆ 10.332189 │\n",
       "│ PCX0986        ┆ MTL0986     ┆ Supplier7 ┆ Factory26    ┆ 2000.0             ┆ 10.142198 │\n",
       "│ PCX0986        ┆ MTL0986     ┆ Supplier7 ┆ Factory46    ┆ 11.653521          ┆ 10.142198 │\n",
       "│ PCX4767        ┆ MTL4767     ┆ Supplier8 ┆ Factory27    ┆ 1000.0             ┆ 10.499483 │\n",
       "└────────────────┴─────────────┴───────────┴──────────────┴────────────────────┴───────────┘"
      ]
     },
     "execution_count": 18,
     "metadata": {},
     "output_type": "execute_result"
    }
   ],
   "source": [
    "# Perform the allocation\n",
    "allocation_df = allocate_volume(merged_df, target_volume_df, factory_demand_df)\n",
    "\n",
    "# Output the allocation results in the same format as ALLOCATION RESULT file\n",
    "allocation_result_columns = ['PCX SPL MTL ID', 'PDM MTL NUM', 'SUPPLIER', 'FACTORY CODE', 'ALLOCATION (UNITS)', 'PRICE']\n",
    "allocation_df = allocation_df.select(allocation_result_columns)\n",
    "allocation_df.head(10)"
   ]
  },
  {
   "cell_type": "markdown",
   "metadata": {},
   "source": [
    "# Save the results to an Excel file"
   ]
  },
  {
   "cell_type": "code",
   "execution_count": null,
   "metadata": {},
   "outputs": [],
   "source": [
    "allocation_df.write_excel('ALLOCATION_RESULT.xlsx')\n",
    "\n",
    "print(\"Allocation results saved to ALLOCATION_RESULT.xlsx\")"
   ]
  }
 ],
 "metadata": {
  "kernelspec": {
   "display_name": "Python 3",
   "language": "python",
   "name": "python3"
  },
  "language_info": {
   "codemirror_mode": {
    "name": "ipython",
    "version": 3
   },
   "file_extension": ".py",
   "mimetype": "text/x-python",
   "name": "python",
   "nbconvert_exporter": "python",
   "pygments_lexer": "ipython3",
   "version": "3.11.9"
  }
 },
 "nbformat": 4,
 "nbformat_minor": 2
}
